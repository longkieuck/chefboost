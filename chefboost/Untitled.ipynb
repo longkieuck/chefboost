{
 "cells": [
  {
   "cell_type": "code",
   "execution_count": 2,
   "id": "a9cbd4df-813e-4731-948d-0ba454876161",
   "metadata": {},
   "outputs": [],
   "source": [
    "import Chefboost as chef"
   ]
  },
  {
   "cell_type": "code",
   "execution_count": 3,
   "id": "16b4f5a8-15d0-4cf0-a96c-1f62f1cd423d",
   "metadata": {},
   "outputs": [],
   "source": [
    "import pandas as pd"
   ]
  },
  {
   "cell_type": "code",
   "execution_count": 4,
   "id": "5e399375-1313-4fca-8111-299b9c59d57a",
   "metadata": {},
   "outputs": [],
   "source": [
    "df = pd.read_csv(\"../tests/dataset/restaurant.txt\")"
   ]
  },
  {
   "cell_type": "code",
   "execution_count": 5,
   "id": "bd21b5ed-7772-4dd2-958b-c0e762e297b4",
   "metadata": {},
   "outputs": [
    {
     "data": {
      "text/html": [
       "<div>\n",
       "<style scoped>\n",
       "    .dataframe tbody tr th:only-of-type {\n",
       "        vertical-align: middle;\n",
       "    }\n",
       "\n",
       "    .dataframe tbody tr th {\n",
       "        vertical-align: top;\n",
       "    }\n",
       "\n",
       "    .dataframe thead th {\n",
       "        text-align: right;\n",
       "    }\n",
       "</style>\n",
       "<table border=\"1\" class=\"dataframe\">\n",
       "  <thead>\n",
       "    <tr style=\"text-align: right;\">\n",
       "      <th></th>\n",
       "      <th>Alt</th>\n",
       "      <th>Bar</th>\n",
       "      <th>Fri</th>\n",
       "      <th>Hun</th>\n",
       "      <th>Pat</th>\n",
       "      <th>Price</th>\n",
       "      <th>Rain</th>\n",
       "      <th>Res</th>\n",
       "      <th>Type</th>\n",
       "      <th>Est</th>\n",
       "      <th>Decision</th>\n",
       "    </tr>\n",
       "  </thead>\n",
       "  <tbody>\n",
       "    <tr>\n",
       "      <th>0</th>\n",
       "      <td>T</td>\n",
       "      <td>F</td>\n",
       "      <td>F</td>\n",
       "      <td>T</td>\n",
       "      <td>Some</td>\n",
       "      <td>3</td>\n",
       "      <td>F</td>\n",
       "      <td>T</td>\n",
       "      <td>F</td>\n",
       "      <td>0</td>\n",
       "      <td>T</td>\n",
       "    </tr>\n",
       "    <tr>\n",
       "      <th>1</th>\n",
       "      <td>T</td>\n",
       "      <td>F</td>\n",
       "      <td>F</td>\n",
       "      <td>T</td>\n",
       "      <td>Full</td>\n",
       "      <td>1</td>\n",
       "      <td>F</td>\n",
       "      <td>F</td>\n",
       "      <td>T</td>\n",
       "      <td>3</td>\n",
       "      <td>F</td>\n",
       "    </tr>\n",
       "    <tr>\n",
       "      <th>2</th>\n",
       "      <td>F</td>\n",
       "      <td>T</td>\n",
       "      <td>F</td>\n",
       "      <td>F</td>\n",
       "      <td>Some</td>\n",
       "      <td>1</td>\n",
       "      <td>F</td>\n",
       "      <td>F</td>\n",
       "      <td>B</td>\n",
       "      <td>0</td>\n",
       "      <td>T</td>\n",
       "    </tr>\n",
       "    <tr>\n",
       "      <th>3</th>\n",
       "      <td>T</td>\n",
       "      <td>F</td>\n",
       "      <td>T</td>\n",
       "      <td>T</td>\n",
       "      <td>Full</td>\n",
       "      <td>1</td>\n",
       "      <td>F</td>\n",
       "      <td>F</td>\n",
       "      <td>T</td>\n",
       "      <td>1</td>\n",
       "      <td>T</td>\n",
       "    </tr>\n",
       "    <tr>\n",
       "      <th>4</th>\n",
       "      <td>T</td>\n",
       "      <td>F</td>\n",
       "      <td>T</td>\n",
       "      <td>F</td>\n",
       "      <td>Full</td>\n",
       "      <td>3</td>\n",
       "      <td>F</td>\n",
       "      <td>T</td>\n",
       "      <td>F</td>\n",
       "      <td>6</td>\n",
       "      <td>F</td>\n",
       "    </tr>\n",
       "  </tbody>\n",
       "</table>\n",
       "</div>"
      ],
      "text/plain": [
       "  Alt Bar Fri Hun   Pat  Price Rain Res Type  Est Decision\n",
       "0   T   F   F   T  Some      3    F   T    F    0        T\n",
       "1   T   F   F   T  Full      1    F   F    T    3        F\n",
       "2   F   T   F   F  Some      1    F   F    B    0        T\n",
       "3   T   F   T   T  Full      1    F   F    T    1        T\n",
       "4   T   F   T   F  Full      3    F   T    F    6        F"
      ]
     },
     "execution_count": 5,
     "metadata": {},
     "output_type": "execute_result"
    }
   ],
   "source": [
    "df.head()"
   ]
  },
  {
   "cell_type": "code",
   "execution_count": 11,
   "id": "e56e4208-4a59-4ff8-8028-627e6bef664a",
   "metadata": {},
   "outputs": [],
   "source": [
    "config = {'algorithm': 'ID3'}"
   ]
  },
  {
   "cell_type": "code",
   "execution_count": 12,
   "id": "a02db590-5c5c-478f-85c4-034528f8878d",
   "metadata": {},
   "outputs": [
    {
     "name": "stdout",
     "output_type": "stream",
     "text": [
      "[INFO]:  4 CPU cores will be allocated in parallel running\n",
      "ID3  tree is going to be built...\n",
      "-------------------------\n",
      "finished in  0.9105122089385986  seconds\n",
      "-------------------------\n",
      "Evaluate  train set\n",
      "-------------------------\n",
      "Accuracy:  100.0 % on  12  instances\n",
      "Labels:  ['T' 'F']\n",
      "Confusion matrix:  [[6, 0], [0, 6]]\n",
      "Precision:  100.0 %, Recall:  100.0 %, F1:  100.0 %\n"
     ]
    }
   ],
   "source": [
    "model = chef.fit(df.copy(),config)"
   ]
  },
  {
   "cell_type": "code",
   "execution_count": 8,
   "id": "49e16f6e-56af-4f4c-94da-52556fff1b14",
   "metadata": {},
   "outputs": [
    {
     "data": {
      "text/plain": [
       "Alt            T\n",
       "Bar            T\n",
       "Fri            T\n",
       "Hun            T\n",
       "Pat         Full\n",
       "Price          1\n",
       "Rain           F\n",
       "Res            F\n",
       "Type           B\n",
       "Est            3\n",
       "Decision       T\n",
       "Name: 11, dtype: object"
      ]
     },
     "execution_count": 8,
     "metadata": {},
     "output_type": "execute_result"
    }
   ],
   "source": [
    "df.iloc[11]"
   ]
  },
  {
   "cell_type": "code",
   "execution_count": 22,
   "id": "8b49ac9d-3178-4715-a77e-af8b70db8c03",
   "metadata": {},
   "outputs": [
    {
     "ename": "AttributeError",
     "evalue": "'DataFrame' object has no attribute 'get_log'",
     "output_type": "error",
     "traceback": [
      "\u001b[1;31m---------------------------------------------------------------------------\u001b[0m",
      "\u001b[1;31mAttributeError\u001b[0m                            Traceback (most recent call last)",
      "\u001b[1;32m~\\AppData\\Local\\Temp/ipykernel_4944/1492616784.py\u001b[0m in \u001b[0;36m<module>\u001b[1;34m\u001b[0m\n\u001b[1;32m----> 1\u001b[1;33m \u001b[0mprint\u001b[0m\u001b[1;33m(\u001b[0m\u001b[0mdf\u001b[0m\u001b[1;33m.\u001b[0m\u001b[0mget_log\u001b[0m\u001b[1;33m(\u001b[0m\u001b[1;36m11\u001b[0m\u001b[1;33m)\u001b[0m\u001b[1;33m)\u001b[0m\u001b[1;33m\u001b[0m\u001b[1;33m\u001b[0m\u001b[0m\n\u001b[0m",
      "\u001b[1;32mc:\\users\\longk\\appdata\\local\\programs\\python\\python38\\lib\\site-packages\\pandas\\core\\generic.py\u001b[0m in \u001b[0;36m__getattr__\u001b[1;34m(self, name)\u001b[0m\n\u001b[0;32m   5485\u001b[0m         ):\n\u001b[0;32m   5486\u001b[0m             \u001b[1;32mreturn\u001b[0m \u001b[0mself\u001b[0m\u001b[1;33m[\u001b[0m\u001b[0mname\u001b[0m\u001b[1;33m]\u001b[0m\u001b[1;33m\u001b[0m\u001b[1;33m\u001b[0m\u001b[0m\n\u001b[1;32m-> 5487\u001b[1;33m         \u001b[1;32mreturn\u001b[0m \u001b[0mobject\u001b[0m\u001b[1;33m.\u001b[0m\u001b[0m__getattribute__\u001b[0m\u001b[1;33m(\u001b[0m\u001b[0mself\u001b[0m\u001b[1;33m,\u001b[0m \u001b[0mname\u001b[0m\u001b[1;33m)\u001b[0m\u001b[1;33m\u001b[0m\u001b[1;33m\u001b[0m\u001b[0m\n\u001b[0m\u001b[0;32m   5488\u001b[0m \u001b[1;33m\u001b[0m\u001b[0m\n\u001b[0;32m   5489\u001b[0m     \u001b[1;32mdef\u001b[0m \u001b[0m__setattr__\u001b[0m\u001b[1;33m(\u001b[0m\u001b[0mself\u001b[0m\u001b[1;33m,\u001b[0m \u001b[0mname\u001b[0m\u001b[1;33m:\u001b[0m \u001b[0mstr\u001b[0m\u001b[1;33m,\u001b[0m \u001b[0mvalue\u001b[0m\u001b[1;33m)\u001b[0m \u001b[1;33m->\u001b[0m \u001b[1;32mNone\u001b[0m\u001b[1;33m:\u001b[0m\u001b[1;33m\u001b[0m\u001b[1;33m\u001b[0m\u001b[0m\n",
      "\u001b[1;31mAttributeError\u001b[0m: 'DataFrame' object has no attribute 'get_log'"
     ]
    }
   ],
   "source": [
    "print(df.get_log(11))"
   ]
  },
  {
   "cell_type": "code",
   "execution_count": 16,
   "id": "506671a9-0af6-430c-ae60-6b19591048d7",
   "metadata": {},
   "outputs": [
    {
     "name": "stdout",
     "output_type": "stream",
     "text": [
      "Alt            T\n",
      "Bar            F\n",
      "Fri            F\n",
      "Hun            T\n",
      "Pat         Some\n",
      "Price          3\n",
      "Rain           F\n",
      "Res            T\n",
      "Type           F\n",
      "Est            0\n",
      "Decision       T\n",
      "Name: 0, dtype: object\n",
      "Alt            T\n",
      "Bar            F\n",
      "Fri            F\n",
      "Hun            T\n",
      "Pat         Full\n",
      "Price          1\n",
      "Rain           F\n",
      "Res            F\n",
      "Type           T\n",
      "Est            3\n",
      "Decision       F\n",
      "Name: 1, dtype: object\n",
      "Alt            F\n",
      "Bar            T\n",
      "Fri            F\n",
      "Hun            F\n",
      "Pat         Some\n",
      "Price          1\n",
      "Rain           F\n",
      "Res            F\n",
      "Type           B\n",
      "Est            0\n",
      "Decision       T\n",
      "Name: 2, dtype: object\n",
      "Alt            T\n",
      "Bar            F\n",
      "Fri            T\n",
      "Hun            T\n",
      "Pat         Full\n",
      "Price          1\n",
      "Rain           F\n",
      "Res            F\n",
      "Type           T\n",
      "Est            1\n",
      "Decision       T\n",
      "Name: 3, dtype: object\n",
      "Alt            T\n",
      "Bar            F\n",
      "Fri            T\n",
      "Hun            F\n",
      "Pat         Full\n",
      "Price          3\n",
      "Rain           F\n",
      "Res            T\n",
      "Type           F\n",
      "Est            6\n",
      "Decision       F\n",
      "Name: 4, dtype: object\n",
      "Alt            F\n",
      "Bar            T\n",
      "Fri            F\n",
      "Hun            T\n",
      "Pat         Some\n",
      "Price          2\n",
      "Rain           T\n",
      "Res            T\n",
      "Type           I\n",
      "Est            0\n",
      "Decision       T\n",
      "Name: 5, dtype: object\n",
      "Alt            F\n",
      "Bar            T\n",
      "Fri            F\n",
      "Hun            F\n",
      "Pat         None\n",
      "Price          1\n",
      "Rain           T\n",
      "Res            F\n",
      "Type           B\n",
      "Est            0\n",
      "Decision       F\n",
      "Name: 6, dtype: object\n",
      "Alt            F\n",
      "Bar            F\n",
      "Fri            F\n",
      "Hun            T\n",
      "Pat         Some\n",
      "Price          2\n",
      "Rain           T\n",
      "Res            T\n",
      "Type           T\n",
      "Est            0\n",
      "Decision       T\n",
      "Name: 7, dtype: object\n",
      "Alt            F\n",
      "Bar            T\n",
      "Fri            T\n",
      "Hun            F\n",
      "Pat         Full\n",
      "Price          1\n",
      "Rain           T\n",
      "Res            F\n",
      "Type           B\n",
      "Est            6\n",
      "Decision       F\n",
      "Name: 8, dtype: object\n",
      "Alt            T\n",
      "Bar            T\n",
      "Fri            T\n",
      "Hun            T\n",
      "Pat         Full\n",
      "Price          3\n",
      "Rain           F\n",
      "Res            T\n",
      "Type           I\n",
      "Est            1\n",
      "Decision       F\n",
      "Name: 9, dtype: object\n",
      "Alt            F\n",
      "Bar            F\n",
      "Fri            F\n",
      "Hun            F\n",
      "Pat         None\n",
      "Price          1\n",
      "Rain           F\n",
      "Res            F\n",
      "Type           T\n",
      "Est            0\n",
      "Decision       F\n",
      "Name: 10, dtype: object\n",
      "Alt            T\n",
      "Bar            T\n",
      "Fri            T\n",
      "Hun            T\n",
      "Pat         Full\n",
      "Price          1\n",
      "Rain           F\n",
      "Res            F\n",
      "Type           B\n",
      "Est            3\n",
      "Decision       T\n",
      "Name: 11, dtype: object\n"
     ]
    }
   ],
   "source": [
    "for i, instance in df.iterrows():\n",
    "    prediction = chef.predict(model,instance)\n",
    "    actual = instance['Decision']\n",
    "    \n",
    "    print(instance)"
   ]
  },
  {
   "cell_type": "code",
   "execution_count": 18,
   "id": "ab36f3fb-caa7-4af8-b5d4-9904a2db806b",
   "metadata": {},
   "outputs": [],
   "source": [
    "test = {'Alt':'T','Bar':'F'}"
   ]
  },
  {
   "cell_type": "code",
   "execution_count": 20,
   "id": "414d45f0-cc12-4ae4-a58a-123e9349ab05",
   "metadata": {},
   "outputs": [
    {
     "ename": "AttributeError",
     "evalue": "'dict' object has no attribute 'iloc'",
     "output_type": "error",
     "traceback": [
      "\u001b[1;31m---------------------------------------------------------------------------\u001b[0m",
      "\u001b[1;31mAttributeError\u001b[0m                            Traceback (most recent call last)",
      "\u001b[1;32m~\\AppData\\Local\\Temp/ipykernel_4944/3964573385.py\u001b[0m in \u001b[0;36m<module>\u001b[1;34m\u001b[0m\n\u001b[1;32m----> 1\u001b[1;33m \u001b[0mprint\u001b[0m\u001b[1;33m(\u001b[0m\u001b[0mtest\u001b[0m\u001b[1;33m.\u001b[0m\u001b[0miloc\u001b[0m\u001b[1;33m[\u001b[0m\u001b[1;36m0\u001b[0m\u001b[1;33m]\u001b[0m\u001b[1;33m)\u001b[0m\u001b[1;33m\u001b[0m\u001b[1;33m\u001b[0m\u001b[0m\n\u001b[0m",
      "\u001b[1;31mAttributeError\u001b[0m: 'dict' object has no attribute 'iloc'"
     ]
    }
   ],
   "source": [
    "print(test)"
   ]
  },
  {
   "cell_type": "code",
   "execution_count": null,
   "id": "6cd4434b-7a13-492a-91b1-620398b37259",
   "metadata": {},
   "outputs": [],
   "source": [
    "test"
   ]
  }
 ],
 "metadata": {
  "kernelspec": {
   "display_name": "Python 3 (ipykernel)",
   "language": "python",
   "name": "python3"
  },
  "language_info": {
   "codemirror_mode": {
    "name": "ipython",
    "version": 3
   },
   "file_extension": ".py",
   "mimetype": "text/x-python",
   "name": "python",
   "nbconvert_exporter": "python",
   "pygments_lexer": "ipython3",
   "version": "3.8.10"
  }
 },
 "nbformat": 4,
 "nbformat_minor": 5
}
